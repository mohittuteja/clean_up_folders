{
 "cells": [
  {
   "cell_type": "markdown",
   "metadata": {},
   "source": [
    "## Single Folder"
   ]
  },
  {
   "cell_type": "code",
   "execution_count": null,
   "metadata": {
    "scrolled": true
   },
   "outputs": [],
   "source": [
    "import os\n",
    "\n",
    "dir_name = \"/home/jovyan/work/mohit2\"\n",
    "test = os.listdir(dir_name)\n",
    "\n",
    "types_to_remove = [\".zip\",\".pkl\",\".csv\",\".lxml\",\".xml\",\".yaml\",\".html\",\".xlsx\",\".html\",\".HTML\"]\n",
    "\n",
    "for item in test:\n",
    "    print(item)\n",
    "    for extension in types_to_remove:\n",
    "        if item.endswith(extension):\n",
    "            os.remove(os.path.join(dir_name, item))\n"
   ]
  },
  {
   "cell_type": "markdown",
   "metadata": {},
   "source": [
    "## All Sub-Folders"
   ]
  },
  {
   "cell_type": "code",
   "execution_count": null,
   "metadata": {
    "scrolled": true
   },
   "outputs": [],
   "source": [
    "import os\n",
    "\n",
    "types_to_remove = [\".zip\",\".pkl\",\".csv\",\".lxml\",\".xml\",\".yaml\",\".html\",\".xlsx\",\".html\",\".HTML\",'.p','.json']\n",
    "\n",
    "for path, subdirs, files in os.walk(\"/home/jovyan/work/mohit2/\"):\n",
    "    for name in files:\n",
    "        #print(name,path)\n",
    "        for extension in types_to_remove:\n",
    "            if os.path.join(path, name).endswith(extension):\n",
    "                try:\n",
    "                    os.remove(os.path.join(path, name))\n",
    "                except Exception as e:\n",
    "                    print('Failed to delete %s. Reason: %s' % (os.path.join(path, name), e))\n",
    "                #except:\n",
    "                    #print(\"could not delete:\",os.path.join(path, name))"
   ]
  },
  {
   "cell_type": "markdown",
   "metadata": {},
   "source": [
    "## ALL Sub-Folders + Size"
   ]
  },
  {
   "cell_type": "code",
   "execution_count": null,
   "metadata": {},
   "outputs": [],
   "source": [
    "import os\n",
    "\n",
    "types_to_remove = [\".zip\",'.p',\".pkl\",\".pickle\",\".csv\",\".lxml\",\".xml\",\".yaml\",\".html\",\".xls\",\".xlsx\",'.json']\n",
    "target_dir = \"/home/jovyan/work/mohit2/\"\n",
    "delete_larger_than = 500   ### in MB\n",
    "\n",
    "for path, subdirs, files in os.walk(target_dir):\n",
    "    for name in files:\n",
    "        for extension in types_to_remove:\n",
    "            if os.path.join(path, name).lower().endswith(extension):\n",
    "                try:\n",
    "                    os.remove(os.path.join(path, name))\n",
    "                except Exception as e:\n",
    "                    print('Failed to delete %s. Reason: %s' % (os.path.join(path, name), e))\n",
    "                    \n",
    "for path, subdirs, files in os.walk(target_dir):\n",
    "    for name in files:\n",
    "        ### getsize returns size in bytes. multiply by 1000000 to get values in MB\n",
    "            try:\n",
    "                if os.path.getsize(os.path.join(path, name)) > 1000000*delete_larger_than:\n",
    "                    os.remove(os.path.join(path, name))\n",
    "            except:\n",
    "                pass"
   ]
  },
  {
   "cell_type": "code",
   "execution_count": null,
   "metadata": {},
   "outputs": [],
   "source": []
  }
 ],
 "metadata": {
  "kernelspec": {
   "display_name": "Python 3",
   "language": "python",
   "name": "python3"
  },
  "language_info": {
   "codemirror_mode": {
    "name": "ipython",
    "version": 3
   },
   "file_extension": ".py",
   "mimetype": "text/x-python",
   "name": "python",
   "nbconvert_exporter": "python",
   "pygments_lexer": "ipython3",
   "version": "3.6.7"
  }
 },
 "nbformat": 4,
 "nbformat_minor": 4
}
